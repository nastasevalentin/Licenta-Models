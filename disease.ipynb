{
 "cells": [
  {
   "cell_type": "code",
   "execution_count": 14,
   "id": "3e42c657-cf20-4ec0-a38d-eab77651124a",
   "metadata": {
    "ExecuteTime": {
     "end_time": "2024-01-04T11:10:07.338632186Z",
     "start_time": "2024-01-04T11:10:07.294410603Z"
    }
   },
   "outputs": [
    {
     "name": "stderr",
     "output_type": "stream",
     "text": [
      "2024-01-04 14:02:02.145733: I external/local_xla/xla/stream_executor/cuda/cuda_executor.cc:901] successful NUMA node read from SysFS had negative value (-1), but there must be at least one NUMA node, so returning NUMA node zero. See more at https://github.com/torvalds/linux/blob/v6.0/Documentation/ABI/testing/sysfs-bus-pci#L344-L355\n",
      "2024-01-04 14:02:02.145925: I external/local_xla/xla/stream_executor/cuda/cuda_executor.cc:901] successful NUMA node read from SysFS had negative value (-1), but there must be at least one NUMA node, so returning NUMA node zero. See more at https://github.com/torvalds/linux/blob/v6.0/Documentation/ABI/testing/sysfs-bus-pci#L344-L355\n",
      "2024-01-04 14:02:02.146031: I external/local_xla/xla/stream_executor/cuda/cuda_executor.cc:901] successful NUMA node read from SysFS had negative value (-1), but there must be at least one NUMA node, so returning NUMA node zero. See more at https://github.com/torvalds/linux/blob/v6.0/Documentation/ABI/testing/sysfs-bus-pci#L344-L355\n",
      "2024-01-04 14:02:02.146165: I external/local_xla/xla/stream_executor/cuda/cuda_executor.cc:901] successful NUMA node read from SysFS had negative value (-1), but there must be at least one NUMA node, so returning NUMA node zero. See more at https://github.com/torvalds/linux/blob/v6.0/Documentation/ABI/testing/sysfs-bus-pci#L344-L355\n",
      "2024-01-04 14:02:02.146306: I external/local_xla/xla/stream_executor/cuda/cuda_executor.cc:901] successful NUMA node read from SysFS had negative value (-1), but there must be at least one NUMA node, so returning NUMA node zero. See more at https://github.com/torvalds/linux/blob/v6.0/Documentation/ABI/testing/sysfs-bus-pci#L344-L355\n",
      "2024-01-04 14:02:02.146380: I tensorflow/core/common_runtime/gpu/gpu_device.cc:1929] Created device /job:localhost/replica:0/task:0/device:GPU:0 with 2093 MB memory:  -> device: 0, name: NVIDIA GeForce GTX 1650 SUPER, pci bus id: 0000:01:00.0, compute capability: 7.5\n"
     ]
    }
   ],
   "source": [
    "import numpy as np\n",
    "import pandas as pd\n",
    "from sklearn.model_selection import train_test_split\n",
    "from sklearn.preprocessing import LabelEncoder\n",
    "import tensorflow as tf\n",
    "import os\n",
    "config = tf.compat.v1.ConfigProto()\n",
    "config.gpu_options.allow_growth = True\n",
    "session = tf.compat.v1.Session(config=config)"
   ]
  },
  {
   "cell_type": "code",
   "execution_count": 15,
   "id": "a2bb35a5-77a9-43ef-a678-bd5151588a2e",
   "metadata": {
    "ExecuteTime": {
     "end_time": "2024-01-04T11:09:45.072344565Z",
     "start_time": "2024-01-04T11:09:45.063715727Z"
    }
   },
   "outputs": [],
   "source": [
    "data = pd.read_csv('Disease_symptom_and_patient_profile_dataset.csv')"
   ]
  },
  {
   "cell_type": "code",
   "execution_count": 16,
   "id": "fef22a44-ba2b-4c7d-8c5d-b09237db6596",
   "metadata": {
    "ExecuteTime": {
     "end_time": "2024-01-04T11:12:01.248552610Z",
     "start_time": "2024-01-04T11:12:01.180691151Z"
    }
   },
   "outputs": [
    {
     "data": {
      "text/html": [
       "<div>\n",
       "<style scoped>\n",
       "    .dataframe tbody tr th:only-of-type {\n",
       "        vertical-align: middle;\n",
       "    }\n",
       "\n",
       "    .dataframe tbody tr th {\n",
       "        vertical-align: top;\n",
       "    }\n",
       "\n",
       "    .dataframe thead th {\n",
       "        text-align: right;\n",
       "    }\n",
       "</style>\n",
       "<table border=\"1\" class=\"dataframe\">\n",
       "  <thead>\n",
       "    <tr style=\"text-align: right;\">\n",
       "      <th></th>\n",
       "      <th>Disease</th>\n",
       "      <th>Fever</th>\n",
       "      <th>Cough</th>\n",
       "      <th>Fatigue</th>\n",
       "      <th>Difficulty Breathing</th>\n",
       "      <th>Age</th>\n",
       "      <th>Gender</th>\n",
       "      <th>Blood Pressure</th>\n",
       "      <th>Cholesterol Level</th>\n",
       "      <th>Outcome Variable</th>\n",
       "    </tr>\n",
       "  </thead>\n",
       "  <tbody>\n",
       "    <tr>\n",
       "      <th>0</th>\n",
       "      <td>Influenza</td>\n",
       "      <td>Yes</td>\n",
       "      <td>No</td>\n",
       "      <td>Yes</td>\n",
       "      <td>Yes</td>\n",
       "      <td>19</td>\n",
       "      <td>Female</td>\n",
       "      <td>Low</td>\n",
       "      <td>Normal</td>\n",
       "      <td>Positive</td>\n",
       "    </tr>\n",
       "    <tr>\n",
       "      <th>1</th>\n",
       "      <td>Common Cold</td>\n",
       "      <td>No</td>\n",
       "      <td>Yes</td>\n",
       "      <td>Yes</td>\n",
       "      <td>No</td>\n",
       "      <td>25</td>\n",
       "      <td>Female</td>\n",
       "      <td>Normal</td>\n",
       "      <td>Normal</td>\n",
       "      <td>Negative</td>\n",
       "    </tr>\n",
       "    <tr>\n",
       "      <th>2</th>\n",
       "      <td>Eczema</td>\n",
       "      <td>No</td>\n",
       "      <td>Yes</td>\n",
       "      <td>Yes</td>\n",
       "      <td>No</td>\n",
       "      <td>25</td>\n",
       "      <td>Female</td>\n",
       "      <td>Normal</td>\n",
       "      <td>Normal</td>\n",
       "      <td>Negative</td>\n",
       "    </tr>\n",
       "    <tr>\n",
       "      <th>3</th>\n",
       "      <td>Asthma</td>\n",
       "      <td>Yes</td>\n",
       "      <td>Yes</td>\n",
       "      <td>No</td>\n",
       "      <td>Yes</td>\n",
       "      <td>25</td>\n",
       "      <td>Male</td>\n",
       "      <td>Normal</td>\n",
       "      <td>Normal</td>\n",
       "      <td>Positive</td>\n",
       "    </tr>\n",
       "    <tr>\n",
       "      <th>4</th>\n",
       "      <td>Asthma</td>\n",
       "      <td>Yes</td>\n",
       "      <td>Yes</td>\n",
       "      <td>No</td>\n",
       "      <td>Yes</td>\n",
       "      <td>25</td>\n",
       "      <td>Male</td>\n",
       "      <td>Normal</td>\n",
       "      <td>Normal</td>\n",
       "      <td>Positive</td>\n",
       "    </tr>\n",
       "    <tr>\n",
       "      <th>...</th>\n",
       "      <td>...</td>\n",
       "      <td>...</td>\n",
       "      <td>...</td>\n",
       "      <td>...</td>\n",
       "      <td>...</td>\n",
       "      <td>...</td>\n",
       "      <td>...</td>\n",
       "      <td>...</td>\n",
       "      <td>...</td>\n",
       "      <td>...</td>\n",
       "    </tr>\n",
       "    <tr>\n",
       "      <th>344</th>\n",
       "      <td>Stroke</td>\n",
       "      <td>Yes</td>\n",
       "      <td>No</td>\n",
       "      <td>Yes</td>\n",
       "      <td>No</td>\n",
       "      <td>80</td>\n",
       "      <td>Female</td>\n",
       "      <td>High</td>\n",
       "      <td>High</td>\n",
       "      <td>Positive</td>\n",
       "    </tr>\n",
       "    <tr>\n",
       "      <th>345</th>\n",
       "      <td>Stroke</td>\n",
       "      <td>Yes</td>\n",
       "      <td>No</td>\n",
       "      <td>Yes</td>\n",
       "      <td>No</td>\n",
       "      <td>85</td>\n",
       "      <td>Male</td>\n",
       "      <td>High</td>\n",
       "      <td>High</td>\n",
       "      <td>Positive</td>\n",
       "    </tr>\n",
       "    <tr>\n",
       "      <th>346</th>\n",
       "      <td>Stroke</td>\n",
       "      <td>Yes</td>\n",
       "      <td>No</td>\n",
       "      <td>Yes</td>\n",
       "      <td>No</td>\n",
       "      <td>85</td>\n",
       "      <td>Male</td>\n",
       "      <td>High</td>\n",
       "      <td>High</td>\n",
       "      <td>Positive</td>\n",
       "    </tr>\n",
       "    <tr>\n",
       "      <th>347</th>\n",
       "      <td>Stroke</td>\n",
       "      <td>Yes</td>\n",
       "      <td>No</td>\n",
       "      <td>Yes</td>\n",
       "      <td>No</td>\n",
       "      <td>90</td>\n",
       "      <td>Female</td>\n",
       "      <td>High</td>\n",
       "      <td>High</td>\n",
       "      <td>Positive</td>\n",
       "    </tr>\n",
       "    <tr>\n",
       "      <th>348</th>\n",
       "      <td>Stroke</td>\n",
       "      <td>Yes</td>\n",
       "      <td>No</td>\n",
       "      <td>Yes</td>\n",
       "      <td>No</td>\n",
       "      <td>90</td>\n",
       "      <td>Female</td>\n",
       "      <td>High</td>\n",
       "      <td>High</td>\n",
       "      <td>Positive</td>\n",
       "    </tr>\n",
       "  </tbody>\n",
       "</table>\n",
       "<p>349 rows × 10 columns</p>\n",
       "</div>"
      ],
      "text/plain": [
       "         Disease Fever Cough Fatigue Difficulty Breathing  Age  Gender  \\\n",
       "0      Influenza   Yes    No     Yes                  Yes   19  Female   \n",
       "1    Common Cold    No   Yes     Yes                   No   25  Female   \n",
       "2         Eczema    No   Yes     Yes                   No   25  Female   \n",
       "3         Asthma   Yes   Yes      No                  Yes   25    Male   \n",
       "4         Asthma   Yes   Yes      No                  Yes   25    Male   \n",
       "..           ...   ...   ...     ...                  ...  ...     ...   \n",
       "344       Stroke   Yes    No     Yes                   No   80  Female   \n",
       "345       Stroke   Yes    No     Yes                   No   85    Male   \n",
       "346       Stroke   Yes    No     Yes                   No   85    Male   \n",
       "347       Stroke   Yes    No     Yes                   No   90  Female   \n",
       "348       Stroke   Yes    No     Yes                   No   90  Female   \n",
       "\n",
       "    Blood Pressure Cholesterol Level Outcome Variable  \n",
       "0              Low            Normal         Positive  \n",
       "1           Normal            Normal         Negative  \n",
       "2           Normal            Normal         Negative  \n",
       "3           Normal            Normal         Positive  \n",
       "4           Normal            Normal         Positive  \n",
       "..             ...               ...              ...  \n",
       "344           High              High         Positive  \n",
       "345           High              High         Positive  \n",
       "346           High              High         Positive  \n",
       "347           High              High         Positive  \n",
       "348           High              High         Positive  \n",
       "\n",
       "[349 rows x 10 columns]"
      ]
     },
     "execution_count": 16,
     "metadata": {},
     "output_type": "execute_result"
    }
   ],
   "source": [
    "data"
   ]
  },
  {
   "cell_type": "code",
   "execution_count": 17,
   "id": "45afe51a-98ae-445f-8b8b-1f7fc0a17989",
   "metadata": {
    "ExecuteTime": {
     "end_time": "2024-01-04T11:12:02.491870719Z",
     "start_time": "2024-01-04T11:12:02.478584414Z"
    }
   },
   "outputs": [],
   "source": [
    "label_encoder = LabelEncoder()\n",
    "data['Disease'] = label_encoder.fit_transform(data['Disease'])\n",
    "data['Fever'] = label_encoder.fit_transform(data['Fever'])\n",
    "data['Cough'] = label_encoder.fit_transform(data['Cough'])\n",
    "data['Fatigue'] = label_encoder.fit_transform(data['Fatigue'])\n",
    "data['Difficulty Breathing'] = label_encoder.fit_transform(data['Difficulty Breathing'])\n",
    "data['Gender'] = label_encoder.fit_transform(data['Gender'])\n",
    "data['Blood Pressure'] = label_encoder.fit_transform(data['Blood Pressure'])\n",
    "data['Blood Pressure'] = label_encoder.fit_transform(data['Blood Pressure'])\n",
    "data['Cholesterol Level'] = label_encoder.fit_transform(data['Cholesterol Level'])\n",
    "data['Outcome Variable'] = label_encoder.fit_transform(data['Outcome Variable'])\n"
   ]
  },
  {
   "cell_type": "code",
   "execution_count": 18,
   "id": "99dc637c-ce30-4789-9a36-eae811940b68",
   "metadata": {
    "ExecuteTime": {
     "end_time": "2024-01-04T11:12:02.836554542Z",
     "start_time": "2024-01-04T11:12:02.830100753Z"
    }
   },
   "outputs": [],
   "source": [
    "X = data.drop(columns=['Outcome Variable'])\n",
    "y = data['Outcome Variable']"
   ]
  },
  {
   "cell_type": "code",
   "execution_count": 19,
   "id": "d54f8e12-c258-4988-a64b-d0512423f1e8",
   "metadata": {
    "ExecuteTime": {
     "end_time": "2024-01-04T11:12:03.019212322Z",
     "start_time": "2024-01-04T11:12:03.015338313Z"
    }
   },
   "outputs": [
    {
     "data": {
      "text/html": [
       "<div>\n",
       "<style scoped>\n",
       "    .dataframe tbody tr th:only-of-type {\n",
       "        vertical-align: middle;\n",
       "    }\n",
       "\n",
       "    .dataframe tbody tr th {\n",
       "        vertical-align: top;\n",
       "    }\n",
       "\n",
       "    .dataframe thead th {\n",
       "        text-align: right;\n",
       "    }\n",
       "</style>\n",
       "<table border=\"1\" class=\"dataframe\">\n",
       "  <thead>\n",
       "    <tr style=\"text-align: right;\">\n",
       "      <th></th>\n",
       "      <th>Disease</th>\n",
       "      <th>Fever</th>\n",
       "      <th>Cough</th>\n",
       "      <th>Fatigue</th>\n",
       "      <th>Difficulty Breathing</th>\n",
       "      <th>Age</th>\n",
       "      <th>Gender</th>\n",
       "      <th>Blood Pressure</th>\n",
       "      <th>Cholesterol Level</th>\n",
       "    </tr>\n",
       "  </thead>\n",
       "  <tbody>\n",
       "    <tr>\n",
       "      <th>0</th>\n",
       "      <td>56</td>\n",
       "      <td>1</td>\n",
       "      <td>0</td>\n",
       "      <td>1</td>\n",
       "      <td>1</td>\n",
       "      <td>19</td>\n",
       "      <td>0</td>\n",
       "      <td>1</td>\n",
       "      <td>2</td>\n",
       "    </tr>\n",
       "    <tr>\n",
       "      <th>1</th>\n",
       "      <td>24</td>\n",
       "      <td>0</td>\n",
       "      <td>1</td>\n",
       "      <td>1</td>\n",
       "      <td>0</td>\n",
       "      <td>25</td>\n",
       "      <td>0</td>\n",
       "      <td>2</td>\n",
       "      <td>2</td>\n",
       "    </tr>\n",
       "    <tr>\n",
       "      <th>2</th>\n",
       "      <td>37</td>\n",
       "      <td>0</td>\n",
       "      <td>1</td>\n",
       "      <td>1</td>\n",
       "      <td>0</td>\n",
       "      <td>25</td>\n",
       "      <td>0</td>\n",
       "      <td>2</td>\n",
       "      <td>2</td>\n",
       "    </tr>\n",
       "    <tr>\n",
       "      <th>3</th>\n",
       "      <td>6</td>\n",
       "      <td>1</td>\n",
       "      <td>1</td>\n",
       "      <td>0</td>\n",
       "      <td>1</td>\n",
       "      <td>25</td>\n",
       "      <td>1</td>\n",
       "      <td>2</td>\n",
       "      <td>2</td>\n",
       "    </tr>\n",
       "    <tr>\n",
       "      <th>4</th>\n",
       "      <td>6</td>\n",
       "      <td>1</td>\n",
       "      <td>1</td>\n",
       "      <td>0</td>\n",
       "      <td>1</td>\n",
       "      <td>25</td>\n",
       "      <td>1</td>\n",
       "      <td>2</td>\n",
       "      <td>2</td>\n",
       "    </tr>\n",
       "    <tr>\n",
       "      <th>...</th>\n",
       "      <td>...</td>\n",
       "      <td>...</td>\n",
       "      <td>...</td>\n",
       "      <td>...</td>\n",
       "      <td>...</td>\n",
       "      <td>...</td>\n",
       "      <td>...</td>\n",
       "      <td>...</td>\n",
       "      <td>...</td>\n",
       "    </tr>\n",
       "    <tr>\n",
       "      <th>344</th>\n",
       "      <td>101</td>\n",
       "      <td>1</td>\n",
       "      <td>0</td>\n",
       "      <td>1</td>\n",
       "      <td>0</td>\n",
       "      <td>80</td>\n",
       "      <td>0</td>\n",
       "      <td>0</td>\n",
       "      <td>0</td>\n",
       "    </tr>\n",
       "    <tr>\n",
       "      <th>345</th>\n",
       "      <td>101</td>\n",
       "      <td>1</td>\n",
       "      <td>0</td>\n",
       "      <td>1</td>\n",
       "      <td>0</td>\n",
       "      <td>85</td>\n",
       "      <td>1</td>\n",
       "      <td>0</td>\n",
       "      <td>0</td>\n",
       "    </tr>\n",
       "    <tr>\n",
       "      <th>346</th>\n",
       "      <td>101</td>\n",
       "      <td>1</td>\n",
       "      <td>0</td>\n",
       "      <td>1</td>\n",
       "      <td>0</td>\n",
       "      <td>85</td>\n",
       "      <td>1</td>\n",
       "      <td>0</td>\n",
       "      <td>0</td>\n",
       "    </tr>\n",
       "    <tr>\n",
       "      <th>347</th>\n",
       "      <td>101</td>\n",
       "      <td>1</td>\n",
       "      <td>0</td>\n",
       "      <td>1</td>\n",
       "      <td>0</td>\n",
       "      <td>90</td>\n",
       "      <td>0</td>\n",
       "      <td>0</td>\n",
       "      <td>0</td>\n",
       "    </tr>\n",
       "    <tr>\n",
       "      <th>348</th>\n",
       "      <td>101</td>\n",
       "      <td>1</td>\n",
       "      <td>0</td>\n",
       "      <td>1</td>\n",
       "      <td>0</td>\n",
       "      <td>90</td>\n",
       "      <td>0</td>\n",
       "      <td>0</td>\n",
       "      <td>0</td>\n",
       "    </tr>\n",
       "  </tbody>\n",
       "</table>\n",
       "<p>349 rows × 9 columns</p>\n",
       "</div>"
      ],
      "text/plain": [
       "     Disease  Fever  Cough  Fatigue  Difficulty Breathing  Age  Gender  \\\n",
       "0         56      1      0        1                     1   19       0   \n",
       "1         24      0      1        1                     0   25       0   \n",
       "2         37      0      1        1                     0   25       0   \n",
       "3          6      1      1        0                     1   25       1   \n",
       "4          6      1      1        0                     1   25       1   \n",
       "..       ...    ...    ...      ...                   ...  ...     ...   \n",
       "344      101      1      0        1                     0   80       0   \n",
       "345      101      1      0        1                     0   85       1   \n",
       "346      101      1      0        1                     0   85       1   \n",
       "347      101      1      0        1                     0   90       0   \n",
       "348      101      1      0        1                     0   90       0   \n",
       "\n",
       "     Blood Pressure  Cholesterol Level  \n",
       "0                 1                  2  \n",
       "1                 2                  2  \n",
       "2                 2                  2  \n",
       "3                 2                  2  \n",
       "4                 2                  2  \n",
       "..              ...                ...  \n",
       "344               0                  0  \n",
       "345               0                  0  \n",
       "346               0                  0  \n",
       "347               0                  0  \n",
       "348               0                  0  \n",
       "\n",
       "[349 rows x 9 columns]"
      ]
     },
     "execution_count": 19,
     "metadata": {},
     "output_type": "execute_result"
    }
   ],
   "source": [
    "X"
   ]
  },
  {
   "cell_type": "code",
   "execution_count": 20,
   "id": "8b9d69da-06e7-4f13-b50f-52ca7c79d1d5",
   "metadata": {
    "ExecuteTime": {
     "end_time": "2024-01-04T11:12:03.307639526Z",
     "start_time": "2024-01-04T11:12:03.256257475Z"
    }
   },
   "outputs": [
    {
     "data": {
      "text/plain": [
       "0      1\n",
       "1      0\n",
       "2      0\n",
       "3      1\n",
       "4      1\n",
       "      ..\n",
       "344    1\n",
       "345    1\n",
       "346    1\n",
       "347    1\n",
       "348    1\n",
       "Name: Outcome Variable, Length: 349, dtype: int64"
      ]
     },
     "execution_count": 20,
     "metadata": {},
     "output_type": "execute_result"
    }
   ],
   "source": [
    "y"
   ]
  },
  {
   "cell_type": "code",
   "execution_count": 21,
   "id": "8cb8dbc9-a3d4-45a9-8699-96e4d4b6d409",
   "metadata": {},
   "outputs": [
    {
     "name": "stdout",
     "output_type": "stream",
     "text": [
      "TensorFlow version:  2.15.0\n",
      "CUDA version:  12.1\n"
     ]
    }
   ],
   "source": [
    "import tensorflow as tf\n",
    "import torch\n",
    "\n",
    "# Check TensorFlow version\n",
    "print(\"TensorFlow version: \", tf.__version__)\n",
    "\n",
    "# Check CUDA version\n",
    "print(\"CUDA version: \", torch.version.cuda)"
   ]
  },
  {
   "cell_type": "code",
   "execution_count": 22,
   "id": "1d9222e4-176f-450f-ac42-ce0b7c2dbe8b",
   "metadata": {
    "ExecuteTime": {
     "end_time": "2024-01-04T11:13:45.535811481Z",
     "start_time": "2024-01-04T11:13:45.485459896Z"
    }
   },
   "outputs": [],
   "source": [
    "X_train, X_test, y_train, y_test = train_test_split(X, y, test_size=0.2, random_state=42)\n",
    "os.environ['TF_FORCE_GPU_ALLOW_GROWTH'] = 'true'\n"
   ]
  },
  {
   "cell_type": "code",
   "execution_count": 23,
   "id": "2a789cef-3074-4603-aa08-9aa0e10ba20c",
   "metadata": {
    "ExecuteTime": {
     "end_time": "2024-01-04T11:13:46.431383352Z",
     "start_time": "2024-01-04T11:13:46.408659722Z"
    }
   },
   "outputs": [],
   "source": [
    "model = tf.keras.Sequential([\n",
    "    tf.keras.layers.Dense(64, activation='relu', input_shape=(X_train.shape[1],)),\n",
    "    tf.keras.layers.Dense(32, activation='relu'),\n",
    "    tf.keras.layers.Dense(1, activation='sigmoid')\n",
    "])\n",
    "\n",
    "model.compile(optimizer='adam', loss='binary_crossentropy', metrics=['accuracy'])\n",
    "\n"
   ]
  },
  {
   "cell_type": "code",
   "execution_count": 26,
   "id": "acbc159a-88a5-470d-b526-17016813ff7e",
   "metadata": {
    "ExecuteTime": {
     "end_time": "2024-01-04T11:12:04.011008930Z",
     "start_time": "2024-01-04T11:12:03.966679388Z"
    }
   },
   "outputs": [
    {
     "name": "stdout",
     "output_type": "stream",
     "text": [
      "Epoch 1/30\n",
      "9/9 [==============================] - 0s 7ms/step - loss: 0.6293 - accuracy: 0.6810 - val_loss: 0.6643 - val_accuracy: 0.5714\n",
      "Epoch 2/30\n",
      "9/9 [==============================] - 0s 4ms/step - loss: 0.6260 - accuracy: 0.6989 - val_loss: 0.6486 - val_accuracy: 0.6286\n",
      "Epoch 3/30\n",
      "9/9 [==============================] - 0s 4ms/step - loss: 0.6227 - accuracy: 0.6667 - val_loss: 0.6535 - val_accuracy: 0.6000\n",
      "Epoch 4/30\n",
      "9/9 [==============================] - 0s 4ms/step - loss: 0.6229 - accuracy: 0.6989 - val_loss: 0.6644 - val_accuracy: 0.5571\n",
      "Epoch 5/30\n",
      "9/9 [==============================] - 0s 4ms/step - loss: 0.6159 - accuracy: 0.7240 - val_loss: 0.6543 - val_accuracy: 0.6143\n",
      "Epoch 6/30\n",
      "9/9 [==============================] - 0s 4ms/step - loss: 0.6209 - accuracy: 0.7061 - val_loss: 0.6500 - val_accuracy: 0.6286\n",
      "Epoch 7/30\n",
      "9/9 [==============================] - 0s 4ms/step - loss: 0.6132 - accuracy: 0.6703 - val_loss: 0.6629 - val_accuracy: 0.5714\n",
      "Epoch 8/30\n",
      "9/9 [==============================] - 0s 4ms/step - loss: 0.6131 - accuracy: 0.6918 - val_loss: 0.6602 - val_accuracy: 0.6143\n",
      "Epoch 9/30\n",
      "9/9 [==============================] - 0s 4ms/step - loss: 0.6144 - accuracy: 0.6703 - val_loss: 0.6527 - val_accuracy: 0.6286\n",
      "Epoch 10/30\n",
      "9/9 [==============================] - 0s 4ms/step - loss: 0.6077 - accuracy: 0.7312 - val_loss: 0.6667 - val_accuracy: 0.5714\n",
      "Epoch 11/30\n",
      "9/9 [==============================] - 0s 4ms/step - loss: 0.6090 - accuracy: 0.6523 - val_loss: 0.6581 - val_accuracy: 0.5857\n",
      "Epoch 12/30\n",
      "9/9 [==============================] - 0s 4ms/step - loss: 0.6163 - accuracy: 0.6953 - val_loss: 0.6527 - val_accuracy: 0.6286\n",
      "Epoch 13/30\n",
      "9/9 [==============================] - 0s 4ms/step - loss: 0.6260 - accuracy: 0.6667 - val_loss: 0.6720 - val_accuracy: 0.5571\n",
      "Epoch 14/30\n",
      "9/9 [==============================] - 0s 4ms/step - loss: 0.6108 - accuracy: 0.6989 - val_loss: 0.6613 - val_accuracy: 0.5714\n",
      "Epoch 15/30\n",
      "9/9 [==============================] - 0s 4ms/step - loss: 0.6042 - accuracy: 0.6882 - val_loss: 0.6516 - val_accuracy: 0.6429\n",
      "Epoch 16/30\n",
      "9/9 [==============================] - 0s 4ms/step - loss: 0.5928 - accuracy: 0.7097 - val_loss: 0.6654 - val_accuracy: 0.6000\n",
      "Epoch 17/30\n",
      "9/9 [==============================] - 0s 4ms/step - loss: 0.6014 - accuracy: 0.7204 - val_loss: 0.6613 - val_accuracy: 0.5857\n",
      "Epoch 18/30\n",
      "9/9 [==============================] - 0s 4ms/step - loss: 0.6038 - accuracy: 0.7133 - val_loss: 0.6580 - val_accuracy: 0.5857\n",
      "Epoch 19/30\n",
      "9/9 [==============================] - 0s 4ms/step - loss: 0.6010 - accuracy: 0.6882 - val_loss: 0.6544 - val_accuracy: 0.5714\n",
      "Epoch 20/30\n",
      "9/9 [==============================] - 0s 4ms/step - loss: 0.5929 - accuracy: 0.7168 - val_loss: 0.6557 - val_accuracy: 0.5714\n",
      "Epoch 21/30\n",
      "9/9 [==============================] - 0s 4ms/step - loss: 0.5975 - accuracy: 0.6703 - val_loss: 0.6647 - val_accuracy: 0.5857\n",
      "Epoch 22/30\n",
      "9/9 [==============================] - 0s 4ms/step - loss: 0.6120 - accuracy: 0.6846 - val_loss: 0.6687 - val_accuracy: 0.6429\n",
      "Epoch 23/30\n",
      "9/9 [==============================] - 0s 4ms/step - loss: 0.6018 - accuracy: 0.6810 - val_loss: 0.6774 - val_accuracy: 0.5857\n",
      "Epoch 24/30\n",
      "9/9 [==============================] - 0s 4ms/step - loss: 0.5923 - accuracy: 0.7097 - val_loss: 0.6591 - val_accuracy: 0.6714\n",
      "Epoch 25/30\n",
      "9/9 [==============================] - 0s 4ms/step - loss: 0.6058 - accuracy: 0.6989 - val_loss: 0.6614 - val_accuracy: 0.5714\n",
      "Epoch 26/30\n",
      "9/9 [==============================] - 0s 4ms/step - loss: 0.5988 - accuracy: 0.7097 - val_loss: 0.6643 - val_accuracy: 0.5429\n",
      "Epoch 27/30\n",
      "9/9 [==============================] - 0s 4ms/step - loss: 0.5845 - accuracy: 0.7025 - val_loss: 0.6676 - val_accuracy: 0.5571\n",
      "Epoch 28/30\n",
      "9/9 [==============================] - 0s 4ms/step - loss: 0.5847 - accuracy: 0.7384 - val_loss: 0.6649 - val_accuracy: 0.5857\n",
      "Epoch 29/30\n",
      "9/9 [==============================] - 0s 4ms/step - loss: 0.5884 - accuracy: 0.6846 - val_loss: 0.6572 - val_accuracy: 0.5714\n",
      "Epoch 30/30\n",
      "9/9 [==============================] - 0s 4ms/step - loss: 0.5877 - accuracy: 0.7276 - val_loss: 0.6619 - val_accuracy: 0.5857\n"
     ]
    },
    {
     "data": {
      "text/plain": [
       "<keras.src.callbacks.History at 0x7fe00e0b3070>"
      ]
     },
     "execution_count": 26,
     "metadata": {},
     "output_type": "execute_result"
    }
   ],
   "source": [
    "model.fit(X_train, y_train, epochs=30, batch_size=32, validation_data=(X_test, y_test))"
   ]
  },
  {
   "cell_type": "code",
   "execution_count": 27,
   "id": "3dbd4b6b-6b62-4a6d-bedf-2ed5b7086752",
   "metadata": {
    "ExecuteTime": {
     "end_time": "2024-01-04T11:12:04.161397239Z",
     "start_time": "2024-01-04T11:12:04.120789981Z"
    }
   },
   "outputs": [
    {
     "name": "stdout",
     "output_type": "stream",
     "text": [
      "(None, 9) <dtype: 'float32'>\n",
      "(None, 1) <dtype: 'float32'>\n",
      "dense_3 (None, 9) float32\n",
      "dense_4 (None, 64) float32\n",
      "dense_5 (None, 32) float32\n"
     ]
    },
    {
     "data": {
      "text/plain": [
       "[None, None, None]"
      ]
     },
     "execution_count": 27,
     "metadata": {},
     "output_type": "execute_result"
    }
   ],
   "source": [
    "[print(i.shape, i.dtype) for i in model.inputs]\n",
    "[print(o.shape, o.dtype) for o in model.outputs]\n",
    "[print(l.name, l.input_shape, l.dtype) for l in model.layers]"
   ]
  },
  {
   "cell_type": "code",
   "execution_count": 32,
   "id": "c6c13814-8b7a-4c50-91e7-bbab60804040",
   "metadata": {
    "ExecuteTime": {
     "end_time": "2024-01-04T11:12:04.345353695Z",
     "start_time": "2024-01-04T11:12:04.304719999Z"
    }
   },
   "outputs": [],
   "source": [
    "# Convert X_train and y_train to numpy arrays\n",
    "X_train = np.asarray(X_train)\n",
    "y_train = np.asarray(y_train)\n",
    "\n",
    "# Reshape X_train and y_train if necessary\n",
    "X_train = np.expand_dims(X_train, -1)\n",
    "y_train = np.expand_dims(y_train, -1)\n",
    "\n",
    "Sequences = X_train.copy()  # replace with actual data if not correct\n",
    "Targets = y_train.copy()\n",
    "Sequences = np.expand_dims(Sequences, -1)\n",
    "Targets = np.expand_dims(Targets, -1)"
   ]
  },
  {
   "cell_type": "code",
   "execution_count": 34,
   "id": "555ea4a8-e35b-4b4b-993c-a5bbe0ec30b4",
   "metadata": {},
   "outputs": [],
   "source": [
    "X_train=np.asarray(X_train).astype('str')\n",
    "\n",
    "y_train=np.asarray(y_train).astype(int)"
   ]
  },
  {
   "cell_type": "code",
   "execution_count": null,
   "id": "ab71c79c-1454-49b0-8ff8-b1fc79764d82",
   "metadata": {},
   "outputs": [],
   "source": []
  }
 ],
 "metadata": {
  "kernelspec": {
   "display_name": "Python 3 (ipykernel)",
   "language": "python",
   "name": "python3"
  },
  "language_info": {
   "codemirror_mode": {
    "name": "ipython",
    "version": 3
   },
   "file_extension": ".py",
   "mimetype": "text/x-python",
   "name": "python",
   "nbconvert_exporter": "python",
   "pygments_lexer": "ipython3",
   "version": "3.10.12"
  }
 },
 "nbformat": 4,
 "nbformat_minor": 5
}
