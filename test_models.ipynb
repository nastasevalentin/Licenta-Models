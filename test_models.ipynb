{
 "cells": [
  {
   "cell_type": "code",
   "execution_count": 4,
   "id": "74de49d0-048d-4e06-b3d9-8796c88a4793",
   "metadata": {},
   "outputs": [],
   "source": [
    "import tensorflow_hub as hub\n",
    "import numpy as np\n",
    "import tensorflow as tf\n",
    "from tensorflow.keras.preprocessing import image\n",
    "from tensorflow.keras.applications.mobilenet_v2 import preprocess_input\n",
    "import cv2"
   ]
  },
  {
   "cell_type": "code",
   "execution_count": 8,
   "id": "8ad769b5-95db-4e8e-bb82-9d2cb1d3727e",
   "metadata": {},
   "outputs": [
    {
     "name": "stdout",
     "output_type": "stream",
     "text": [
      "tf.Tensor([[1.0000000e+00 3.6066771e-16]], shape=(1, 2), dtype=float32)\n"
     ]
    }
   ],
   "source": [
    "import tensorflow as tf\n",
    "import tensorflow_hub as hub\n",
    "import numpy as np\n",
    "import cv2\n",
    "\n",
    "model_path = \"pneumonia_model/\"  \n",
    "layer = hub.KerasLayer(model_path, trainable=False)\n",
    "\n",
    "image_path = \"test_no_pneumonia.jpg\"  \n",
    "image = cv2.imread(image_path)\n",
    "image = cv2.resize(image, (224, 224))  \n",
    "\n",
    "input_image = tf.expand_dims(tf.cast(image, tf.float32), axis=0)\n",
    "\n",
    "predictions = layer(input_image, training=False)\n",
    "\n",
    "print(predictions)\n"
   ]
  },
  {
   "cell_type": "code",
   "execution_count": 9,
   "id": "979c377e-7b74-4585-9e79-3b0ad4a0710f",
   "metadata": {},
   "outputs": [
    {
     "name": "stdout",
     "output_type": "stream",
     "text": [
      "tf.Tensor([[1.0000000e+00 3.6066771e-16]], shape=(1, 2), dtype=float32)\n"
     ]
    }
   ],
   "source": [
    "print(predictions)\n"
   ]
  },
  {
   "cell_type": "code",
   "execution_count": 6,
   "id": "45e166ce-c551-4676-9ec0-5cb0473b5bd4",
   "metadata": {},
   "outputs": [
    {
     "name": "stdout",
     "output_type": "stream",
     "text": [
      "2.15.0\n"
     ]
    }
   ],
   "source": [
    "import tensorflow as tf\n",
    "print(tf.__version__)\n"
   ]
  },
  {
   "cell_type": "code",
   "execution_count": 12,
   "id": "71282bf8-6f5c-4203-afb9-5d2b2457b5be",
   "metadata": {},
   "outputs": [
    {
     "name": "stdout",
     "output_type": "stream",
     "text": [
      "tf.Tensor([[0. 0. 0. 0. 0. 0. 1.]], shape=(1, 7), dtype=float32)\n"
     ]
    }
   ],
   "source": [
    "model_path = \"skin_model/\"  \n",
    "layer = hub.KerasLayer(model_path, trainable=False)\n",
    "\n",
    "image_path = \"test_bcc.jpg\"  \n",
    "image = cv2.imread(image_path)\n",
    "image = cv2.resize(image, (28, 28))  \n",
    "input_image = tf.expand_dims(tf.cast(image, tf.float32), axis=0)\n",
    "\n",
    "predictions = layer(input_image, training=False)\n",
    "\n",
    "print(predictions)"
   ]
  },
  {
   "cell_type": "code",
   "execution_count": null,
   "id": "a73433bb-f6df-46dd-8489-e63879482589",
   "metadata": {},
   "outputs": [],
   "source": []
  }
 ],
 "metadata": {
  "kernelspec": {
   "display_name": "Python 3 (ipykernel)",
   "language": "python",
   "name": "python3"
  },
  "language_info": {
   "codemirror_mode": {
    "name": "ipython",
    "version": 3
   },
   "file_extension": ".py",
   "mimetype": "text/x-python",
   "name": "python",
   "nbconvert_exporter": "python",
   "pygments_lexer": "ipython3",
   "version": "3.10.12"
  }
 },
 "nbformat": 4,
 "nbformat_minor": 5
}
